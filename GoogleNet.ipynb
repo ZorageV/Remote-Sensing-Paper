{
 "cells": [
  {
   "cell_type": "code",
   "execution_count": 1,
   "metadata": {},
   "outputs": [],
   "source": [
    "import torch \n",
    "import torch.nn as nn\n",
    "import torchvision\n",
    "from torchvision import transforms\n",
    "from torch.utils.data import DataLoader\n",
    "from random import randint\n",
    "\n",
    "from PIL import Image,ImageFile\n",
    "\n",
    "ImageFile.LOAD_TRUNCATED_IMAGES = True"
   ]
  },
  {
   "cell_type": "code",
   "execution_count": 2,
   "metadata": {},
   "outputs": [],
   "source": [
    "transforms = transforms.Compose([\n",
    "    transforms.Resize((224,224)),\n",
    "    transforms.ToTensor(),\n",
    "    transforms.Normalize(mean=[0.485,0.456,0.406],std=[0.229,0.224,0.225]),\n",
    "    transforms.RandomRotation(randint(1,360)),\n",
    "    transforms.RandomHorizontalFlip(),\n",
    "\n",
    "])"
   ]
  },
  {
   "cell_type": "code",
   "execution_count": 3,
   "metadata": {},
   "outputs": [],
   "source": [
    "train_path = \"../Remote sensing paper/Final Dataset/train\"\n",
    "test_path = \"../Remote sensing paper/Final Dataset/test\"\n",
    "val_path = \"../Remote sensing paper/Final Dataset/val\""
   ]
  },
  {
   "cell_type": "code",
   "execution_count": 4,
   "metadata": {},
   "outputs": [],
   "source": [
    "def check_image(path):\n",
    "    try:\n",
    "        im = Image.open(path)\n",
    "        return True\n",
    "    except:\n",
    "        return False"
   ]
  },
  {
   "cell_type": "code",
   "execution_count": 5,
   "metadata": {},
   "outputs": [],
   "source": [
    "train_data = torchvision.datasets.ImageFolder(root=train_path,transform=transforms,is_valid_file=check_image)\n",
    "test_data = torchvision.datasets.ImageFolder(root=test_path,transform=transforms,is_valid_file=check_image)\n",
    "val_data = torchvision.datasets.ImageFolder(root=val_path,transform=transforms,is_valid_file=check_image)"
   ]
  },
  {
   "cell_type": "code",
   "execution_count": null,
   "metadata": {},
   "outputs": [],
   "source": [
    "batch_size = 64\n",
    "num_classes = 10"
   ]
  },
  {
   "cell_type": "code",
   "execution_count": null,
   "metadata": {},
   "outputs": [],
   "source": [
    "train_loader = DataLoader(dataset=train_data,batch_size=batch_size)\n",
    "test_loader = DataLoader(dataset=test_data,batch_size=batch_size)\n",
    "val_loader = DataLoader(dataset=val_data,batch_size=batch_size)"
   ]
  },
  {
   "cell_type": "code",
   "execution_count": null,
   "metadata": {},
   "outputs": [],
   "source": [
    "if torch.cuda.is_available:\n",
    "    device = torch.device('cuda')\n",
    "    torch.cuda.empty_cache()\n",
    "else:\n",
    "    device = torch.device('cpu')\n",
    "\n",
    "device = 'cpu'"
   ]
  },
  {
   "cell_type": "code",
   "execution_count": null,
   "metadata": {},
   "outputs": [],
   "source": [
    "class convblock(nn.Module):\n",
    "\n",
    "    def __init__(self,in_channels,out_channels,kernel_size,stride,padding=0):\n",
    "        super().__init__()\n",
    "        self.conv = nn.Sequential(\n",
    "            nn.Conv2d(in_channels=in_channels,out_channels=out_channels,kernel_size=kernel_size,stride=stride,padding=padding),\n",
    "            nn.BatchNorm2d(out_channels,eps=0.001),\n",
    "            nn.ReLU(inplace=True)\n",
    "        )\n",
    "    \n",
    "    def forward(self,x):\n",
    "        return self.conv(x)\n"
   ]
  },
  {
   "cell_type": "code",
   "execution_count": null,
   "metadata": {},
   "outputs": [],
   "source": [
    "class aux(nn.Module):\n",
    "\n",
    "    def __init__(self,in_channels,num_classes):\n",
    "        super().__init__()\n",
    "        self.aux_start = nn.Sequential(\n",
    "            nn.AvgPool2d(kernel_size=(4,4),stride=1),\n",
    "            convblock(in_channels=in_channels,out_channels=128,kernel_size=(1,1),stride=3),\n",
    "        )\n",
    "        self.aux_linear = nn.Sequential(\n",
    "            nn.Linear(2048, 1024),\n",
    "            nn.ReLU(inplace=True),\n",
    "            nn.Dropout(0.7),\n",
    "            nn.Linear(1024, num_classes)\n",
    "        )\n",
    "    \n",
    "    def forward(self,x):\n",
    "        x = self.aux_start(x)\n",
    "        x = torch.flatten(x,1)\n",
    "        x = self.aux_linear(x)\n",
    "        return x\n",
    "        "
   ]
  },
  {
   "cell_type": "code",
   "execution_count": null,
   "metadata": {},
   "outputs": [],
   "source": [
    "class inception(nn.Module):\n",
    "    \n",
    "    def __init__(self,in_channels,f1x1,in3x3,f3x3,in5x5,f5x5,fpool):\n",
    "        super().__init__()\n",
    "        self.branch1 = convblock(in_channels=in_channels,out_channels=f1x1,kernel_size=(1,1),stride=1)\n",
    "        self.branch2 = nn.Sequential(\n",
    "            convblock(in_channels=in_channels,out_channels=in3x3,kernel_size=(1,1),stride=1),\n",
    "            convblock(in_channels=in3x3,out_channels=f3x3,kernel_size=(3,3),stride=1,padding=1),\n",
    "        )\n",
    "        self.branch3 = nn.Sequential(\n",
    "            convblock(in_channels=in_channels,out_channels=in5x5,kernel_size=(1,1),stride=1),\n",
    "            convblock(in_channels=in5x5,out_channels=f5x5,kernel_size=(5,5),stride=1,padding=2),\n",
    "        )\n",
    "        self.branch4 = nn.Sequential(\n",
    "            nn.MaxPool2d(kernel_size=(3,3),stride=1,padding=1,ceil_mode=True),\n",
    "            convblock(in_channels=in_channels,out_channels=fpool,kernel_size=(1,1),stride=1)\n",
    "        )\n",
    "    \n",
    "    def forward(self,x):\n",
    "        x1 = self.branch1(x)\n",
    "        x2 = self.branch2(x)\n",
    "        x3 = self.branch3(x)\n",
    "        x4 = self.branch4(x)\n",
    "\n",
    "        x = torch.cat([x1,x2,x3,x4],1)\n",
    "        return x"
   ]
  },
  {
   "cell_type": "code",
   "execution_count": null,
   "metadata": {},
   "outputs": [],
   "source": [
    "class Googlenet(nn.Module):\n",
    "\n",
    "    def __init__(self,in_channels,num_classes,aux_avai=False):\n",
    "\n",
    "        super().__init__()\n",
    "\n",
    "        self.conv1 = convblock(in_channels=in_channels,out_channels=64,kernel_size=(7,7),stride=2,padding=3)\n",
    "        self.maxpool = nn.MaxPool2d(kernel_size=(3,3), stride=2,ceil_mode=True)\n",
    "        self.conv2 = convblock(in_channels=64,out_channels=64,kernel_size=(1,1),stride=1)\n",
    "        self.conv3 = convblock(in_channels=64,out_channels=192,kernel_size=(3,3),stride=1,padding=1)\n",
    "\n",
    "        self.inception3a = inception(in_channels=192,f1x1=64,in3x3=96,f3x3=128,in5x5=16,f5x5=32,fpool=32)\n",
    "        self.inception3b = inception(in_channels=256,f1x1=128,in3x3=128,f3x3=192,in5x5=32,f5x5=96,fpool=64)\n",
    "\n",
    "        self.inception4a = inception(in_channels=480,f1x1=192,in3x3=96,f3x3=208,in5x5=16,f5x5=48,fpool=64)\n",
    "        self.inception4b = inception(in_channels=512,f1x1=160,in3x3=112,f3x3=224,in5x5=24,f5x5=64,fpool=64)\n",
    "        self.inception4c = inception(in_channels=512,f1x1=128,in3x3=128,f3x3=256,in5x5=24,f5x5=64,fpool=64)\n",
    "        self.inception4d = inception(in_channels=512,f1x1=112,in3x3=144,f3x3=288,in5x5=32,f5x5=64,fpool=64)\n",
    "        self.inception4e = inception(in_channels=528,f1x1=256,in3x3=160,f3x3=320,in5x5=32,f5x5=128,fpool=128)\n",
    "\n",
    "\n",
    "        self.inception5a = inception(in_channels=832,f1x1=256,in3x3=160,f3x3=320,in5x5=32,f5x5=128,fpool=128)\n",
    "        self.inception5b = inception(in_channels=832,f1x1=384,in3x3=192,f3x3=384,in5x5=48,f5x5=128,fpool=128)\n",
    "\n",
    "        self.aux_avai = aux_avai\n",
    "        self.aux4a = aux(in_channels=512,num_classes=num_classes) \n",
    "        self.aux4d = aux(in_channels=528,num_classes=num_classes) \n",
    "\n",
    "        self.avgpool = nn.AvgPool2d(kernel_size=(7,7),stride=1)\n",
    "\n",
    "        self.drop = nn.Dropout(0.4)\n",
    "\n",
    "        self.linear = nn.Linear(in_features=1024,out_features=num_classes)\n",
    "\n",
    "    def forward(self,x):\n",
    "        y = None\n",
    "        z = None\n",
    "        # print(x.shape)\n",
    "        x = self.conv1(x)\n",
    "        # print(x.shape)\n",
    "        x = self.maxpool(x)\n",
    "        # print(x.shape)\n",
    "        x = self.conv2(x)\n",
    "        # print(x.shape)\n",
    "        x = self.conv3(x)\n",
    "        # print(x.shape)\n",
    "        x = self.maxpool(x)\n",
    "        # print(x.shape)\n",
    "        x = self.inception3a(x)\n",
    "        # print(x.shape)\n",
    "        x = self.inception3b(x)\n",
    "        # print(x.shape)\n",
    "        x = self.maxpool(x)\n",
    "        # print(x.shape)\n",
    "        x = self.inception4a(x)\n",
    "        # print(x.shape)\n",
    "        \n",
    "        if self.training and self.aux_avai:\n",
    "            y = self.aux4a(x)\n",
    "\n",
    "        x = self.inception4b(x) \n",
    "        # print(x.shape)\n",
    "        x = self.inception4c(x) \n",
    "        # print(x.shape)\n",
    "        x = self.inception4d(x)\n",
    "        # print(x.shape)\n",
    "\n",
    "        if self.training and self.aux_avai:\n",
    "            z = self.aux4d(x) \n",
    "\n",
    "        x = self.inception4e(x)\n",
    "        # print(x.shape)\n",
    "        x = self.maxpool(x)\n",
    "        # print(x.shape)\n",
    "        x = self.inception5a(x)\n",
    "        # print(x.shape)\n",
    "        x = self.inception5b(x)\n",
    "        # print(x.shape)\n",
    "        x = self.avgpool(x)\n",
    "        # print(x.shape)\n",
    "        x = torch.flatten(x,1)\n",
    "        # print(x.shape)\n",
    "        x = self.drop(x)\n",
    "        # print(x.shape)\n",
    "        x = self.linear(x)\n",
    "        # print(x.shape)\n",
    "        return x,y,z\n"
   ]
  },
  {
   "cell_type": "code",
   "execution_count": null,
   "metadata": {},
   "outputs": [],
   "source": [
    "def train(model, optimizer, loss_fn, train_loader, val_loader, epochs=2, aux_avai=False, device=device):\n",
    "    for epoch in range(1, epochs+1):\n",
    "        training_loss = 0.0\n",
    "        valid_loss = 0.0\n",
    "        model.train()\n",
    "        for batch in train_loader:\n",
    "            optimizer.zero_grad()\n",
    "            inputs, targets = batch\n",
    "            inputs = inputs.to(device)\n",
    "            targets = targets.to(device)\n",
    "            output,aux1,aux2 = model(inputs)\n",
    "            if aux_avai:\n",
    "                loss = loss_fn(output, targets) + 0.3*loss_fn(aux1, targets) + 0.3*loss_fn(aux2, targets)\n",
    "            else:\n",
    "                loss = loss_fn(output, targets)\n",
    "            loss.backward()\n",
    "            optimizer.step()\n",
    "            training_loss += loss.data.item() * inputs.size(0)\n",
    "        training_loss /= len(train_loader.dataset)\n",
    "        \n",
    "        model.eval()\n",
    "        num_correct = 0 \n",
    "        num_examples = 0\n",
    "        for batch in val_loader:\n",
    "            inputs, targets = batch\n",
    "            inputs = inputs.to(device)\n",
    "            output,_,_ = model(inputs)\n",
    "            targets = targets.to(device)\n",
    "            loss = loss_fn(output, targets) \n",
    "            valid_loss += loss.data.item() * inputs.size(0)\n",
    "            correct = torch.eq(torch.max(F.softmax(output, dim=1), dim=1)[1],targets)\n",
    "            num_correct += torch.sum(correct).item()\n",
    "            num_examples += correct.shape[0]\n",
    "        valid_loss /= len(val_loader.dataset)\n",
    "\n",
    "        print('Epoch: {}, Training Loss: {:.2f}, Validation Loss: {:.2f}, accuracy = {:.2f}'.format(epoch, training_loss,\n",
    "        valid_loss, num_correct / num_examples))"
   ]
  },
  {
   "cell_type": "code",
   "execution_count": null,
   "metadata": {},
   "outputs": [],
   "source": [
    "model = torch.hub.load('pytorch/vision:v0.10.0', 'googlenet', pretrained=False)\n",
    "\n",
    "model.to(device)"
   ]
  },
  {
   "cell_type": "code",
   "execution_count": null,
   "metadata": {},
   "outputs": [],
   "source": [
    "optimizer = torch.optim.SGD(params=model.parameters(),lr=0.0001,weight_decay=1e-4)\n",
    "\n",
    "loss = nn.CrossEntropyLoss()\n",
    "lr_scheduler = torch.optim.lr_scheduler.ReduceLROnPlateau(optimizer, patience=5, verbose=True)"
   ]
  },
  {
   "cell_type": "code",
   "execution_count": null,
   "metadata": {},
   "outputs": [],
   "source": [
    "train(model=model,optimizer=optimizer,loss_fn=loss,train_loader=train_loader,val_loader=val_loader,epochs=1,aux_avai=True,device=device)"
   ]
  }
 ],
 "metadata": {
  "kernelspec": {
   "display_name": "torch",
   "language": "python",
   "name": "python3"
  },
  "language_info": {
   "codemirror_mode": {
    "name": "ipython",
    "version": 3
   },
   "file_extension": ".py",
   "mimetype": "text/x-python",
   "name": "python",
   "nbconvert_exporter": "python",
   "pygments_lexer": "ipython3",
   "version": "3.12.1"
  }
 },
 "nbformat": 4,
 "nbformat_minor": 2
}
